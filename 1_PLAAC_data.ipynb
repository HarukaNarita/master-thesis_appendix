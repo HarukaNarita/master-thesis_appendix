{
 "cells": [
  {
   "cell_type": "code",
   "execution_count": 1,
   "metadata": {},
   "outputs": [],
   "source": [
    "import pandas as pd\n",
    "import re"
   ]
  },
  {
   "cell_type": "code",
   "execution_count": 2,
   "metadata": {
    "scrolled": true
   },
   "outputs": [],
   "source": [
    "df = pd.read_csv('/home/pacbio/Heat Map/plaac_candidates_191122.tsv',header=0,sep='\\t')"
   ]
  },
  {
   "cell_type": "code",
   "execution_count": 3,
   "metadata": {},
   "outputs": [],
   "source": [
    "df_name = df[\"SEQid\"][df[\"SEQid\"].str.contains(\"GN\")].str.extract('(?P<OS>.*)OS=(?P<OX>.*)OX=(?P<GN>.*)GN=(?P<PE>.*)PE=(?P<SV>.*)SV=',expand=True)\n",
    "df_name = df_name.drop(\"GN\",axis=1)"
   ]
  },
  {
   "cell_type": "code",
   "execution_count": 4,
   "metadata": {
    "scrolled": false
   },
   "outputs": [],
   "source": [
    "df_name_1 = df[\"SEQid\"][df[\"SEQid\"].str.contains(\"GN\")==False].str.extract('(?P<OS>.*)OS=(?P<OX>.*)OX=(?P<PE>.*)PE=(?P<SV>.*)SV=',expand=True)"
   ]
  },
  {
   "cell_type": "code",
   "execution_count": 5,
   "metadata": {},
   "outputs": [],
   "source": [
    "df_n = pd.concat([df_name,df_name_1],sort=True)\n",
    "df_n_1 = df_n.sort_index()"
   ]
  },
  {
   "cell_type": "markdown",
   "metadata": {},
   "source": [
    "df_nameにタンパク質番号(?)にGNが入ってるやつを改めて処理する。"
   ]
  },
  {
   "cell_type": "code",
   "execution_count": 6,
   "metadata": {},
   "outputs": [],
   "source": [
    "f1 = lambda x:1 if type(x)==str else 0\n",
    "a = [i for i, x in enumerate([f1(x) for x in df_n_1[\"OS\"]]) if x == 0]\n",
    "df_name_2 = df[a[0]:a[0]+1][\"SEQid\"].str.extract('(?P<OS>.*)OS=(?P<OX>.*)OX=(?P<PE>.*)PE=(?P<SV>.*)SV=',expand=True)\n",
    "for b in a[1:]:\n",
    "    df_name_2 = df_name_2.append(df[b:b+1][\"SEQid\"].str.extract('(?P<OS>.*)OS=(?P<OX>.*)OX=(?P<PE>.*)PE=(?P<SV>.*)SV=',expand=True))\n",
    "df_n_1 = df_n_1.drop(df_n_1.index[a])\n",
    "df_n_1 = df_n_1.append(df_name_2)\n",
    "df_n_1 = df_n_1.sort_index()\n",
    "df_n_1.to_csv('argonaute_final.tsv', sep='\\t', index=True)"
   ]
  },
  {
   "cell_type": "markdown",
   "metadata": {},
   "source": [
    "ずれてないか確認"
   ]
  },
  {
   "cell_type": "code",
   "execution_count": 7,
   "metadata": {},
   "outputs": [
    {
     "data": {
      "text/plain": [
       "True"
      ]
     },
     "execution_count": 7,
     "metadata": {},
     "output_type": "execute_result"
    }
   ],
   "source": [
    "f = lambda x,y:1 if x in y else 0\n",
    "len(df) == sum([f(x,y) for y,x in zip(df[\"SEQid\"],df_n_1[\"OS\"])])"
   ]
  }
 ],
 "metadata": {
  "kernelspec": {
   "display_name": "Python 3",
   "language": "python",
   "name": "python3"
  },
  "language_info": {
   "codemirror_mode": {
    "name": "ipython",
    "version": 3
   },
   "file_extension": ".py",
   "mimetype": "text/x-python",
   "name": "python",
   "nbconvert_exporter": "python",
   "pygments_lexer": "ipython3",
   "version": "3.7.3"
  }
 },
 "nbformat": 4,
 "nbformat_minor": 2
}
