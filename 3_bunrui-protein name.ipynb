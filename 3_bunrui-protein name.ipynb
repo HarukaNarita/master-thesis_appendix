{
 "cells": [
  {
   "cell_type": "code",
   "execution_count": 2,
   "metadata": {},
   "outputs": [],
   "source": [
    "import pandas as pd\n",
    "df = pd.read_csv('/home/pacbio/Heat Map/argonaute_final_domain_taxonomy_corrected.tsv',header=0,sep='\\t')"
   ]
  },
  {
   "cell_type": "markdown",
   "metadata": {},
   "source": [
    "Ago1,Ago2,…を分類する"
   ]
  },
  {
   "cell_type": "code",
   "execution_count": 3,
   "metadata": {
    "scrolled": true
   },
   "outputs": [
    {
     "name": "stderr",
     "output_type": "stream",
     "text": [
      "/home/pacbio/anaconda3/lib/python3.7/site-packages/ipykernel_launcher.py:12: UserWarning: Boolean Series key will be reindexed to match DataFrame index.\n",
      "  if sys.path[0] == '':\n",
      "/home/pacbio/anaconda3/lib/python3.7/site-packages/ipykernel_launcher.py:13: UserWarning: Boolean Series key will be reindexed to match DataFrame index.\n",
      "  del sys.path[0]\n"
     ]
    }
   ],
   "source": [
    "name_list_ago = [\"gonaute\",\"gonaute \",\"gonaute-\",\n",
    "                  \"ARGONAUTE\",\"ARGONAUTE \",\"ARGONAUTE-\",\n",
    "                  \"go\",\"go \",\"go-\",\n",
    "                  \"AGO\",\"AGO \",\"AGO-\",\n",
    "                  \"gonaute protein\",\"gonaute protein \",\"gonaute protein-\"]\n",
    "\n",
    "for i in range(1,23):\n",
    "    name_list_ago_i = [name + str(i) for name in name_list_ago]\n",
    "    \n",
    "    DF_NAME = pd.Series([])\n",
    "    for p in name_list_ago_i:\n",
    "        D = df[df[\"OS\"].str.contains(p)==True][df[\"OS\"].str.contains(p+\"\\d\")==False]#[df[\"OS\"].str.contains(\"ragment\")==False]\n",
    "        D_1 = df[df[\"PE\"].str.contains(p)==True][df[\"PE\"].str.contains(p+\"\\d\")==False]#[df[\"OS\"].str.contains(\"ragment\")==False]\n",
    "        DF_NAME = pd.concat([DF_NAME,D,D_1],sort=True)\n",
    "    DF_NAME = DF_NAME.drop_duplicates(subset=\"OS\")\n",
    "    \n",
    "    s = DF_NAME[\"OS\"].str.split(\" \")\n",
    "    s_l = list(s)\n",
    "    l = []\n",
    "    for k in s_l:\n",
    "        ProteinName = ' '.join(k[1:])\n",
    "        l = l + [ProteinName]\n",
    "    \n",
    "    DF_NAME[\"Protein Name\"] = pd.Series([])\n",
    "    m = 0\n",
    "    \n",
    "    DF_NAME[\"Protein Name\"] = l\n",
    "    \n",
    "    #print(DF_NAME)\n",
    "    tsv_name = \"Argonaute \" + str(i) + \".tsv\"\n",
    "    DF_NAME.to_csv(tsv_name, sep='\\t')"
   ]
  },
  {
   "cell_type": "markdown",
   "metadata": {},
   "source": [
    "Ago1,2,…18までのファイル"
   ]
  },
  {
   "cell_type": "code",
   "execution_count": 4,
   "metadata": {},
   "outputs": [],
   "source": [
    "d_num = pd.Series([])\n",
    "for num in range(1,23):\n",
    "    a_path =  \"/home/pacbio/Heat Map/Argonaute \" + str(num) + \".tsv\"\n",
    "    df_open = pd.read_csv(a_path,header=0,sep='\\t')\n",
    "    d_num = pd.concat([d_num,df_open],sort=True)\n",
    "#d_num.drop_duplicates(subset=\"OS\")\n",
    "d_num.to_csv(\"Ago_num.tsv\",sep=\"\\t\")\n",
    "df[~df[\"OS\"].isin(d_num[\"OS\"])].to_csv(\"Others.tsv\",sep=\"\\t\")"
   ]
  },
  {
   "cell_type": "markdown",
   "metadata": {},
   "source": [
    "Agoの結合因子のファイル"
   ]
  },
  {
   "cell_type": "code",
   "execution_count": 5,
   "metadata": {},
   "outputs": [],
   "source": [
    "## ago binding ##\n",
    "d = pd.read_csv('/home/pacbio/Heat Map/Others.tsv',header=0,sep='\\t')\n",
    "\n",
    "name_list_ago = [\"paz\",\"Paz\",\"PAZ\",\n",
    "                 \"piwi\",\"Piwi\",\"PIWI\",\n",
    "                 \"Argo\"]\n",
    "def count(a):\n",
    "    c = 0\n",
    "    for i in a[1:-1].split(\",\"):\n",
    "        for j in name_list_ago:\n",
    "            if j in i:\n",
    "                c += 1\n",
    "    return c\n",
    "\n",
    "d1 = d[d.Domain.map(lambda a:0 if a == \"[]\" else 1)==1]\n",
    "DF_NAME = d1[d1.Domain.map(count)==0]\n",
    "\n",
    "DF_NAME.to_csv(\"Argonaute -2.tsv\",sep=\"\\t\")"
   ]
  },
  {
   "cell_type": "markdown",
   "metadata": {},
   "source": [
    "PIWIのファイル"
   ]
  },
  {
   "cell_type": "code",
   "execution_count": 6,
   "metadata": {},
   "outputs": [
    {
     "name": "stderr",
     "output_type": "stream",
     "text": [
      "/home/pacbio/anaconda3/lib/python3.7/site-packages/ipykernel_launcher.py:11: UserWarning: Boolean Series key will be reindexed to match DataFrame index.\n",
      "  # This is added back by InteractiveShellApp.init_path()\n"
     ]
    }
   ],
   "source": [
    "## Piwi protein ##\n",
    "d = pd.read_csv('/home/pacbio/Heat Map/Others.tsv',header=0,sep='\\t')\n",
    "d_b = pd.read_csv('/home/pacbio/Heat Map/Argonaute -2.tsv',header=0,sep='\\t')\n",
    "\n",
    "d_piwi_ago = d[~d[\"OS\"].isin(d_b[\"OS\"])]  ### [] PAZ,etc\n",
    "name_list_piwi = [\"PIWI\",\"Piwi\",\"piwi\",\"MEL1\"]\n",
    "#num = [str(i) for i in range(100,1000)]\n",
    "\n",
    "DF_PIWI = pd.DataFrame([])\n",
    "for p in name_list_piwi:\n",
    "    D = d[d[\"OS\"].str.contains(p)==True][d[\"OS\"].str.contains(\"containing\")==False]#[df[\"OS\"].str.contains(p+\"\\d\")==False]#[df[\"OS\"].str.contains(\"ragment\")==False]\n",
    "    D_1 = d[d[\"PE\"].str.contains(p)==True]#[df[\"PE\"].str.contains(p+\"\\d\")==False]#[df[\"OS\"].str.contains(\"ragment\")==False]\n",
    "    DF_PIWI = pd.concat([DF_PIWI,D,D_1],sort=True)\n",
    "DF_PIWI.drop_duplicates()\n",
    "    \n",
    "\n",
    "DF_PIWI\n",
    "DF_PIWI.to_csv(\"Argonaute -1.tsv\", sep='\\t')"
   ]
  },
  {
   "cell_type": "markdown",
   "metadata": {},
   "source": [
    "その他のAgoや推定Ago"
   ]
  },
  {
   "cell_type": "code",
   "execution_count": 7,
   "metadata": {},
   "outputs": [],
   "source": [
    "### Argonaute Protein ###\n",
    "d_ago = d_piwi_ago[~d_piwi_ago[\"OS\"].isin(DF_PIWI[\"OS\"])]\n",
    "#d_ago\n",
    "d_ago.to_csv(\"Argonaute 0.tsv\", sep='\\t')"
   ]
  }
 ],
 "metadata": {
  "kernelspec": {
   "display_name": "Python 3",
   "language": "python",
   "name": "python3"
  },
  "language_info": {
   "codemirror_mode": {
    "name": "ipython",
    "version": 3
   },
   "file_extension": ".py",
   "mimetype": "text/x-python",
   "name": "python",
   "nbconvert_exporter": "python",
   "pygments_lexer": "ipython3",
   "version": "3.7.3"
  }
 },
 "nbformat": 4,
 "nbformat_minor": 2
}
